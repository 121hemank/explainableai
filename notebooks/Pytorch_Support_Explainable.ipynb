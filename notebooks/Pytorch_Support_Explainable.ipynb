{
 "cells": [
  {
   "cell_type": "code",
   "execution_count": 1,
   "metadata": {},
   "outputs": [
    {
     "name": "stdout",
     "output_type": "stream",
     "text": [
      "Requirement already satisfied: explainableai in c:\\users\\shravya h jain\\desktop\\explain\\.venv\\lib\\site-packages (0.1.9)\n",
      "Requirement already satisfied: numpy in c:\\users\\shravya h jain\\desktop\\explain\\.venv\\lib\\site-packages (from explainableai) (2.0.2)\n",
      "Requirement already satisfied: pandas in c:\\users\\shravya h jain\\desktop\\explain\\.venv\\lib\\site-packages (from explainableai) (2.2.3)\n",
      "Requirement already satisfied: scikit-learn in c:\\users\\shravya h jain\\desktop\\explain\\.venv\\lib\\site-packages (from explainableai) (1.5.2)\n",
      "Requirement already satisfied: shap in c:\\users\\shravya h jain\\desktop\\explain\\.venv\\lib\\site-packages (from explainableai) (0.46.0)\n",
      "Requirement already satisfied: matplotlib in c:\\users\\shravya h jain\\desktop\\explain\\.venv\\lib\\site-packages (from explainableai) (3.9.2)\n",
      "Requirement already satisfied: seaborn in c:\\users\\shravya h jain\\desktop\\explain\\.venv\\lib\\site-packages (from explainableai) (0.13.2)\n",
      "Requirement already satisfied: plotly in c:\\users\\shravya h jain\\desktop\\explain\\.venv\\lib\\site-packages (from explainableai) (5.24.1)\n",
      "Requirement already satisfied: ipywidgets in c:\\users\\shravya h jain\\desktop\\explain\\.venv\\lib\\site-packages (from explainableai) (8.1.5)\n",
      "Requirement already satisfied: lime in c:\\users\\shravya h jain\\desktop\\explain\\.venv\\lib\\site-packages (from explainableai) (0.2.0.1)\n",
      "Requirement already satisfied: reportlab in c:\\users\\shravya h jain\\desktop\\explain\\.venv\\lib\\site-packages (from explainableai) (4.2.5)\n",
      "Requirement already satisfied: google-generativeai in c:\\users\\shravya h jain\\desktop\\explain\\.venv\\lib\\site-packages (from explainableai) (0.8.2)\n",
      "Requirement already satisfied: python-dotenv in c:\\users\\shravya h jain\\desktop\\explain\\.venv\\lib\\site-packages (from explainableai) (1.0.1)\n",
      "Requirement already satisfied: scipy in c:\\users\\shravya h jain\\desktop\\explain\\.venv\\lib\\site-packages (from explainableai) (1.14.1)\n",
      "Requirement already satisfied: pillow in c:\\users\\shravya h jain\\desktop\\explain\\.venv\\lib\\site-packages (from explainableai) (10.4.0)\n",
      "Requirement already satisfied: google-ai-generativelanguage==0.6.10 in c:\\users\\shravya h jain\\desktop\\explain\\.venv\\lib\\site-packages (from google-generativeai->explainableai) (0.6.10)\n",
      "Requirement already satisfied: google-api-core in c:\\users\\shravya h jain\\desktop\\explain\\.venv\\lib\\site-packages (from google-generativeai->explainableai) (2.20.0)\n",
      "Requirement already satisfied: google-api-python-client in c:\\users\\shravya h jain\\desktop\\explain\\.venv\\lib\\site-packages (from google-generativeai->explainableai) (2.147.0)\n",
      "Requirement already satisfied: google-auth>=2.15.0 in c:\\users\\shravya h jain\\desktop\\explain\\.venv\\lib\\site-packages (from google-generativeai->explainableai) (2.35.0)\n",
      "Requirement already satisfied: protobuf in c:\\users\\shravya h jain\\desktop\\explain\\.venv\\lib\\site-packages (from google-generativeai->explainableai) (5.28.2)\n",
      "Requirement already satisfied: pydantic in c:\\users\\shravya h jain\\desktop\\explain\\.venv\\lib\\site-packages (from google-generativeai->explainableai) (2.9.2)\n",
      "Requirement already satisfied: tqdm in c:\\users\\shravya h jain\\desktop\\explain\\.venv\\lib\\site-packages (from google-generativeai->explainableai) (4.66.5)\n",
      "Requirement already satisfied: typing-extensions in c:\\users\\shravya h jain\\desktop\\explain\\.venv\\lib\\site-packages (from google-generativeai->explainableai) (4.12.2)\n",
      "Requirement already satisfied: proto-plus<2.0.0dev,>=1.22.3 in c:\\users\\shravya h jain\\desktop\\explain\\.venv\\lib\\site-packages (from google-ai-generativelanguage==0.6.10->google-generativeai->explainableai) (1.24.0)\n",
      "Requirement already satisfied: comm>=0.1.3 in c:\\users\\shravya h jain\\desktop\\explain\\.venv\\lib\\site-packages (from ipywidgets->explainableai) (0.2.2)\n",
      "Requirement already satisfied: ipython>=6.1.0 in c:\\users\\shravya h jain\\desktop\\explain\\.venv\\lib\\site-packages (from ipywidgets->explainableai) (8.28.0)\n",
      "Requirement already satisfied: traitlets>=4.3.1 in c:\\users\\shravya h jain\\desktop\\explain\\.venv\\lib\\site-packages (from ipywidgets->explainableai) (5.14.3)\n",
      "Requirement already satisfied: widgetsnbextension~=4.0.12 in c:\\users\\shravya h jain\\desktop\\explain\\.venv\\lib\\site-packages (from ipywidgets->explainableai) (4.0.13)\n",
      "Requirement already satisfied: jupyterlab-widgets~=3.0.12 in c:\\users\\shravya h jain\\desktop\\explain\\.venv\\lib\\site-packages (from ipywidgets->explainableai) (3.0.13)\n",
      "Requirement already satisfied: scikit-image>=0.12 in c:\\users\\shravya h jain\\desktop\\explain\\.venv\\lib\\site-packages (from lime->explainableai) (0.24.0)\n",
      "Requirement already satisfied: joblib>=1.2.0 in c:\\users\\shravya h jain\\desktop\\explain\\.venv\\lib\\site-packages (from scikit-learn->explainableai) (1.4.2)\n",
      "Requirement already satisfied: threadpoolctl>=3.1.0 in c:\\users\\shravya h jain\\desktop\\explain\\.venv\\lib\\site-packages (from scikit-learn->explainableai) (3.5.0)\n",
      "Requirement already satisfied: contourpy>=1.0.1 in c:\\users\\shravya h jain\\desktop\\explain\\.venv\\lib\\site-packages (from matplotlib->explainableai) (1.3.0)\n",
      "Requirement already satisfied: cycler>=0.10 in c:\\users\\shravya h jain\\desktop\\explain\\.venv\\lib\\site-packages (from matplotlib->explainableai) (0.12.1)\n",
      "Requirement already satisfied: fonttools>=4.22.0 in c:\\users\\shravya h jain\\desktop\\explain\\.venv\\lib\\site-packages (from matplotlib->explainableai) (4.54.1)\n",
      "Requirement already satisfied: kiwisolver>=1.3.1 in c:\\users\\shravya h jain\\desktop\\explain\\.venv\\lib\\site-packages (from matplotlib->explainableai) (1.4.7)\n",
      "Requirement already satisfied: packaging>=20.0 in c:\\users\\shravya h jain\\desktop\\explain\\.venv\\lib\\site-packages (from matplotlib->explainableai) (24.1)\n",
      "Requirement already satisfied: pyparsing>=2.3.1 in c:\\users\\shravya h jain\\desktop\\explain\\.venv\\lib\\site-packages (from matplotlib->explainableai) (3.1.4)\n",
      "Requirement already satisfied: python-dateutil>=2.7 in c:\\users\\shravya h jain\\desktop\\explain\\.venv\\lib\\site-packages (from matplotlib->explainableai) (2.9.0.post0)\n",
      "Requirement already satisfied: pytz>=2020.1 in c:\\users\\shravya h jain\\desktop\\explain\\.venv\\lib\\site-packages (from pandas->explainableai) (2024.2)\n",
      "Requirement already satisfied: tzdata>=2022.7 in c:\\users\\shravya h jain\\desktop\\explain\\.venv\\lib\\site-packages (from pandas->explainableai) (2024.2)\n",
      "Requirement already satisfied: tenacity>=6.2.0 in c:\\users\\shravya h jain\\desktop\\explain\\.venv\\lib\\site-packages (from plotly->explainableai) (9.0.0)\n",
      "Requirement already satisfied: chardet in c:\\users\\shravya h jain\\desktop\\explain\\.venv\\lib\\site-packages (from reportlab->explainableai) (5.2.0)\n",
      "Requirement already satisfied: slicer==0.0.8 in c:\\users\\shravya h jain\\desktop\\explain\\.venv\\lib\\site-packages (from shap->explainableai) (0.0.8)\n",
      "Requirement already satisfied: numba in c:\\users\\shravya h jain\\desktop\\explain\\.venv\\lib\\site-packages (from shap->explainableai) (0.60.0)\n",
      "Requirement already satisfied: cloudpickle in c:\\users\\shravya h jain\\desktop\\explain\\.venv\\lib\\site-packages (from shap->explainableai) (3.0.0)\n",
      "Requirement already satisfied: googleapis-common-protos<2.0.dev0,>=1.56.2 in c:\\users\\shravya h jain\\desktop\\explain\\.venv\\lib\\site-packages (from google-api-core->google-generativeai->explainableai) (1.65.0)\n",
      "Requirement already satisfied: requests<3.0.0.dev0,>=2.18.0 in c:\\users\\shravya h jain\\desktop\\explain\\.venv\\lib\\site-packages (from google-api-core->google-generativeai->explainableai) (2.32.3)\n",
      "Requirement already satisfied: cachetools<6.0,>=2.0.0 in c:\\users\\shravya h jain\\desktop\\explain\\.venv\\lib\\site-packages (from google-auth>=2.15.0->google-generativeai->explainableai) (5.5.0)\n",
      "Requirement already satisfied: pyasn1-modules>=0.2.1 in c:\\users\\shravya h jain\\desktop\\explain\\.venv\\lib\\site-packages (from google-auth>=2.15.0->google-generativeai->explainableai) (0.4.1)\n",
      "Requirement already satisfied: rsa<5,>=3.1.4 in c:\\users\\shravya h jain\\desktop\\explain\\.venv\\lib\\site-packages (from google-auth>=2.15.0->google-generativeai->explainableai) (4.9)\n",
      "Requirement already satisfied: decorator in c:\\users\\shravya h jain\\desktop\\explain\\.venv\\lib\\site-packages (from ipython>=6.1.0->ipywidgets->explainableai) (5.1.1)\n",
      "Requirement already satisfied: jedi>=0.16 in c:\\users\\shravya h jain\\desktop\\explain\\.venv\\lib\\site-packages (from ipython>=6.1.0->ipywidgets->explainableai) (0.19.1)\n",
      "Requirement already satisfied: matplotlib-inline in c:\\users\\shravya h jain\\desktop\\explain\\.venv\\lib\\site-packages (from ipython>=6.1.0->ipywidgets->explainableai) (0.1.7)\n",
      "Requirement already satisfied: prompt-toolkit<3.1.0,>=3.0.41 in c:\\users\\shravya h jain\\desktop\\explain\\.venv\\lib\\site-packages (from ipython>=6.1.0->ipywidgets->explainableai) (3.0.48)\n",
      "Requirement already satisfied: pygments>=2.4.0 in c:\\users\\shravya h jain\\desktop\\explain\\.venv\\lib\\site-packages (from ipython>=6.1.0->ipywidgets->explainableai) (2.18.0)\n",
      "Requirement already satisfied: stack-data in c:\\users\\shravya h jain\\desktop\\explain\\.venv\\lib\\site-packages (from ipython>=6.1.0->ipywidgets->explainableai) (0.6.3)\n",
      "Requirement already satisfied: colorama in c:\\users\\shravya h jain\\desktop\\explain\\.venv\\lib\\site-packages (from ipython>=6.1.0->ipywidgets->explainableai) (0.4.6)\n",
      "Requirement already satisfied: six>=1.5 in c:\\users\\shravya h jain\\desktop\\explain\\.venv\\lib\\site-packages (from python-dateutil>=2.7->matplotlib->explainableai) (1.16.0)\n",
      "Requirement already satisfied: networkx>=2.8 in c:\\users\\shravya h jain\\desktop\\explain\\.venv\\lib\\site-packages (from scikit-image>=0.12->lime->explainableai) (3.3)\n",
      "Requirement already satisfied: imageio>=2.33 in c:\\users\\shravya h jain\\desktop\\explain\\.venv\\lib\\site-packages (from scikit-image>=0.12->lime->explainableai) (2.35.1)\n",
      "Requirement already satisfied: tifffile>=2022.8.12 in c:\\users\\shravya h jain\\desktop\\explain\\.venv\\lib\\site-packages (from scikit-image>=0.12->lime->explainableai) (2024.9.20)\n",
      "Requirement already satisfied: lazy-loader>=0.4 in c:\\users\\shravya h jain\\desktop\\explain\\.venv\\lib\\site-packages (from scikit-image>=0.12->lime->explainableai) (0.4)\n",
      "Requirement already satisfied: httplib2<1.dev0,>=0.19.0 in c:\\users\\shravya h jain\\desktop\\explain\\.venv\\lib\\site-packages (from google-api-python-client->google-generativeai->explainableai) (0.22.0)\n",
      "Requirement already satisfied: google-auth-httplib2<1.0.0,>=0.2.0 in c:\\users\\shravya h jain\\desktop\\explain\\.venv\\lib\\site-packages (from google-api-python-client->google-generativeai->explainableai) (0.2.0)\n",
      "Requirement already satisfied: uritemplate<5,>=3.0.1 in c:\\users\\shravya h jain\\desktop\\explain\\.venv\\lib\\site-packages (from google-api-python-client->google-generativeai->explainableai) (4.1.1)\n",
      "Requirement already satisfied: llvmlite<0.44,>=0.43.0dev0 in c:\\users\\shravya h jain\\desktop\\explain\\.venv\\lib\\site-packages (from numba->shap->explainableai) (0.43.0)\n",
      "Requirement already satisfied: annotated-types>=0.6.0 in c:\\users\\shravya h jain\\desktop\\explain\\.venv\\lib\\site-packages (from pydantic->google-generativeai->explainableai) (0.7.0)\n",
      "Requirement already satisfied: pydantic-core==2.23.4 in c:\\users\\shravya h jain\\desktop\\explain\\.venv\\lib\\site-packages (from pydantic->google-generativeai->explainableai) (2.23.4)\n",
      "Requirement already satisfied: grpcio<2.0dev,>=1.33.2 in c:\\users\\shravya h jain\\desktop\\explain\\.venv\\lib\\site-packages (from google-api-core[grpc]!=2.0.*,!=2.1.*,!=2.10.*,!=2.2.*,!=2.3.*,!=2.4.*,!=2.5.*,!=2.6.*,!=2.7.*,!=2.8.*,!=2.9.*,<3.0.0dev,>=1.34.1->google-ai-generativelanguage==0.6.10->google-generativeai->explainableai) (1.66.2)\n",
      "Requirement already satisfied: grpcio-status<2.0.dev0,>=1.33.2 in c:\\users\\shravya h jain\\desktop\\explain\\.venv\\lib\\site-packages (from google-api-core[grpc]!=2.0.*,!=2.1.*,!=2.10.*,!=2.2.*,!=2.3.*,!=2.4.*,!=2.5.*,!=2.6.*,!=2.7.*,!=2.8.*,!=2.9.*,<3.0.0dev,>=1.34.1->google-ai-generativelanguage==0.6.10->google-generativeai->explainableai) (1.66.2)\n",
      "Requirement already satisfied: parso<0.9.0,>=0.8.3 in c:\\users\\shravya h jain\\desktop\\explain\\.venv\\lib\\site-packages (from jedi>=0.16->ipython>=6.1.0->ipywidgets->explainableai) (0.8.4)\n",
      "Requirement already satisfied: wcwidth in c:\\users\\shravya h jain\\desktop\\explain\\.venv\\lib\\site-packages (from prompt-toolkit<3.1.0,>=3.0.41->ipython>=6.1.0->ipywidgets->explainableai) (0.2.13)\n",
      "Requirement already satisfied: pyasn1<0.7.0,>=0.4.6 in c:\\users\\shravya h jain\\desktop\\explain\\.venv\\lib\\site-packages (from pyasn1-modules>=0.2.1->google-auth>=2.15.0->google-generativeai->explainableai) (0.6.1)\n",
      "Requirement already satisfied: charset-normalizer<4,>=2 in c:\\users\\shravya h jain\\desktop\\explain\\.venv\\lib\\site-packages (from requests<3.0.0.dev0,>=2.18.0->google-api-core->google-generativeai->explainableai) (3.3.2)\n",
      "Requirement already satisfied: idna<4,>=2.5 in c:\\users\\shravya h jain\\desktop\\explain\\.venv\\lib\\site-packages (from requests<3.0.0.dev0,>=2.18.0->google-api-core->google-generativeai->explainableai) (3.10)\n",
      "Requirement already satisfied: urllib3<3,>=1.21.1 in c:\\users\\shravya h jain\\desktop\\explain\\.venv\\lib\\site-packages (from requests<3.0.0.dev0,>=2.18.0->google-api-core->google-generativeai->explainableai) (2.2.3)\n",
      "Requirement already satisfied: certifi>=2017.4.17 in c:\\users\\shravya h jain\\desktop\\explain\\.venv\\lib\\site-packages (from requests<3.0.0.dev0,>=2.18.0->google-api-core->google-generativeai->explainableai) (2024.8.30)\n",
      "Requirement already satisfied: executing>=1.2.0 in c:\\users\\shravya h jain\\desktop\\explain\\.venv\\lib\\site-packages (from stack-data->ipython>=6.1.0->ipywidgets->explainableai) (2.1.0)\n",
      "Requirement already satisfied: asttokens>=2.1.0 in c:\\users\\shravya h jain\\desktop\\explain\\.venv\\lib\\site-packages (from stack-data->ipython>=6.1.0->ipywidgets->explainableai) (2.4.1)\n",
      "Requirement already satisfied: pure-eval in c:\\users\\shravya h jain\\desktop\\explain\\.venv\\lib\\site-packages (from stack-data->ipython>=6.1.0->ipywidgets->explainableai) (0.2.3)\n"
     ]
    }
   ],
   "source": [
    "!pip install explainableai"
   ]
  },
  {
   "cell_type": "code",
   "execution_count": 2,
   "metadata": {},
   "outputs": [
    {
     "ename": "ModuleNotFoundError",
     "evalue": "No module named 'torch'",
     "output_type": "error",
     "traceback": [
      "\u001b[1;31m---------------------------------------------------------------------------\u001b[0m",
      "\u001b[1;31mModuleNotFoundError\u001b[0m                       Traceback (most recent call last)",
      "Cell \u001b[1;32mIn[2], line 1\u001b[0m\n\u001b[1;32m----> 1\u001b[0m \u001b[38;5;28;01mimport\u001b[39;00m \u001b[38;5;21;01mtorch\u001b[39;00m\n\u001b[0;32m      2\u001b[0m \u001b[38;5;28;01mimport\u001b[39;00m \u001b[38;5;21;01mtorch\u001b[39;00m\u001b[38;5;21;01m.\u001b[39;00m\u001b[38;5;21;01mnn\u001b[39;00m \u001b[38;5;28;01mas\u001b[39;00m \u001b[38;5;21;01mnn\u001b[39;00m\n\u001b[0;32m      3\u001b[0m \u001b[38;5;28;01mimport\u001b[39;00m \u001b[38;5;21;01mtorch\u001b[39;00m\u001b[38;5;21;01m.\u001b[39;00m\u001b[38;5;21;01moptim\u001b[39;00m \u001b[38;5;28;01mas\u001b[39;00m \u001b[38;5;21;01moptim\u001b[39;00m\n",
      "\u001b[1;31mModuleNotFoundError\u001b[0m: No module named 'torch'"
     ]
    }
   ],
   "source": [
    "import torch\n",
    "import torch.nn as nn\n",
    "import torch.optim as optim\n",
    "from torch.utils.data import DataLoader, TensorDataset\n",
    "from sklearn.preprocessing import StandardScaler\n"
   ]
  }
 ],
 "metadata": {
  "kernelspec": {
   "display_name": ".venv",
   "language": "python",
   "name": "python3"
  },
  "language_info": {
   "codemirror_mode": {
    "name": "ipython",
    "version": 3
   },
   "file_extension": ".py",
   "mimetype": "text/x-python",
   "name": "python",
   "nbconvert_exporter": "python",
   "pygments_lexer": "ipython3",
   "version": "3.12.5"
  }
 },
 "nbformat": 4,
 "nbformat_minor": 2
}
